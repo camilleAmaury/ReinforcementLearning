{
 "cells": [
  {
   "cell_type": "markdown",
   "metadata": {},
   "source": [
    "# Tic Tac Toe RL solving\n",
    "\n",
    "In this notebook we will try to provide a model which is able to play correctly against a human and an other AI"
   ]
  },
  {
   "cell_type": "code",
   "execution_count": 1,
   "metadata": {},
   "outputs": [],
   "source": [
    "import numpy as np"
   ]
  },
  {
   "cell_type": "code",
   "execution_count": 3,
   "metadata": {},
   "outputs": [],
   "source": [
    "class TicTacToe(object):\n",
    "    def __init__(self, player1, player2):\n",
    "        super(TicTacToe, self).__init__()\n",
    "        self.board = np.zeros((3,3))\n",
    "        self.players = np.random.shuffle([player1, player2])\n",
    "        self.history = np.array([])\n",
    "        \n",
    "    def reset(self):\n",
    "        self.history = np.array([])\n",
    "        self.players = np.random.shuffle(self.players)\n",
    "        self.board = np.zeros((3,3))\n",
    "        \n",
    "    def Play_Game():\n",
    "        is_finished = False\n",
    "        if (not self.Is_Game_Ended(None)) and not is_finished :\n",
    "            turn = len(self.history) % 2\n",
    "            player = self.players[turn]\n",
    "            pos = player.Play_Turn(self.Find_Pos_Available(), self.history)\n",
    "            \n",
    "            numpy.append(self.history, (pos[0]+1)*(pos[1]+1))\n",
    "            self.board[pos[0]][pos[1]] = turn+1\n",
    "            \n",
    "            # check if the player wins\n",
    "            win = self.Is_Game_Ended(turn)\n",
    "            if win:\n",
    "                self.players[turn].Update(1)\n",
    "                self.players[(turn+1)%2].Update(-1)\n",
    "            \n",
    "        else:\n",
    "            print(self.board)\n",
    "            \n",
    "    def Is_Game_Ended(self, turn):\n",
    "        if turn == None:\n",
    "            return len(self.history) == 9\n",
    "        else:\n",
    "            positions = []\n",
    "            for i in range(turn, len(history), 2):\n",
    "                positions.append(history[i])\n",
    "            # horizontal check\n",
    "            cond = ([0,1,2] in positions) or ([3,4,5] in positions) or ([6,7,8] in positions)\n",
    "            # vertical check\n",
    "            cond = cond or ([0,3,6] in positions) or ([1,4,7] in positions) or ([2,5,8] in positions)\n",
    "            # diagonal check\n",
    "            cond = cond or ([0,4,8] in positions) or ([2,4,6] in positions)\n",
    "            return cond\n",
    "    \n",
    "    def Find_Pos_Available(self):\n",
    "        pos_avail = np.array([0,1,2,3,4,5,6,7,8])\n",
    "        for i in self.history:\n",
    "            pos_avail = np.delete(pos_avail, i)\n",
    "                "
   ]
  },
  {
   "cell_type": "code",
   "execution_count": 7,
   "metadata": {},
   "outputs": [],
   "source": [
    "class Player(object):\n",
    "    def __init__(self, name):\n",
    "        super(Player, self).__init__()\n",
    "        self.name = name\n",
    "        \n",
    "    def Play_Turn(choices, history):\n",
    "        action = np.random.choice(choices)\n",
    "        return (int(action/3), action%3)\n",
    "    \n",
    "    def Update(self, reward):\n",
    "        pass\n",
    "    \n",
    "    def __str__(self):\n",
    "        return self.name\n",
    "    def __repr__(self):\n",
    "        return \"<Object Player:Random, Name:{}>\".format(self.name)"
   ]
  },
  {
   "cell_type": "code",
   "execution_count": 38,
   "metadata": {},
   "outputs": [],
   "source": [
    "class Q_Player(Player):\n",
    "    def __init__(self, name, rates):\n",
    "        super(Q_Player, self).__init__(name)\n",
    "        # instanciate Q matrix\n",
    "        self.Q = []\n",
    "        for i in range(9):\n",
    "            self.Q.append(np.zeros([j for j in range(9,i,-1)]))\n",
    "        # rates\n",
    "        self.rates = rates\n",
    "        self.state = None\n",
    "        \n",
    "    def __repr__(self):\n",
    "        return \"<Object Player:Q_Player, Name:{}>\".format(self.name)\n",
    "    \n",
    "    def Play_Turn(choices, history):\n",
    "        if np.random.uniform(0, 1) <= self.rates[0]:\n",
    "            action = np.random.choice(choices)\n",
    "            return (int(action/3), action%3)\n",
    "        # if using memory then maximize rewards\n",
    "        else:\n",
    "            temp_state = []\n",
    "            turn = len(self.Q)-len(history)-1\n",
    "            arr = self.Q[turn]\n",
    "            temp_state.append(turn)\n",
    "            for i,past_action in enumerate(history):\n",
    "                if i+1 == len(history):\n",
    "                    action = np.argmax(arr)\n",
    "                    temp_state.append(action)\n",
    "                    self.state = temp_state\n",
    "                else:\n",
    "                    arr = arr[past_action]\n",
    "                    temp_state.append(past_action)\n",
    "            \n",
    "        return action\n",
    "    \n",
    "    def Update(self, reward):\n",
    "        arr = self.Q[self.state[0]]\n",
    "        for i,past_action in enumerate(self.state[1:len(self.state)]):\n",
    "            if i+1 == len(self.state):\n",
    "                arr[past_action] = reward\n",
    "            else:\n",
    "                arr = arr[past_action]\n",
    "    \n",
    "    def Update_Q(self, reward, ):\n",
    "        arr = self.Q[self.state[0]]\n",
    "        for i,past_action in enumerate(self.state[1:len(self.state)]):\n",
    "            if i+1 == len(self.state):\n",
    "                arr[past_action] = reward\n",
    "            else:\n",
    "                arr = arr[past_action]\n",
    "        "
   ]
  },
  {
   "cell_type": "code",
   "execution_count": 39,
   "metadata": {},
   "outputs": [
    {
     "data": {
      "text/plain": [
       "<Object Player:Q_Player, Name:Tonclure>"
      ]
     },
     "execution_count": 39,
     "metadata": {},
     "output_type": "execute_result"
    }
   ],
   "source": [
    "q_player = Q_Player(\"Tonclure\", [1., 0.000001, 0.1])\n",
    "q_player"
   ]
  },
  {
   "cell_type": "code",
   "execution_count": 23,
   "metadata": {},
   "outputs": [
    {
     "data": {
      "text/plain": [
       "array([[0., 0.],\n",
       "       [0., 0.]])"
      ]
     },
     "execution_count": 23,
     "metadata": {},
     "output_type": "execute_result"
    }
   ],
   "source": []
  },
  {
   "cell_type": "code",
   "execution_count": 41,
   "metadata": {},
   "outputs": [],
   "source": [
    "for i in (1,0,1):\n",
    "    pass"
   ]
  },
  {
   "cell_type": "code",
   "execution_count": null,
   "metadata": {},
   "outputs": [],
   "source": []
  }
 ],
 "metadata": {
  "kernelspec": {
   "display_name": "Python 3",
   "language": "python",
   "name": "python3"
  },
  "language_info": {
   "codemirror_mode": {
    "name": "ipython",
    "version": 3
   },
   "file_extension": ".py",
   "mimetype": "text/x-python",
   "name": "python",
   "nbconvert_exporter": "python",
   "pygments_lexer": "ipython3",
   "version": "3.7.6"
  }
 },
 "nbformat": 4,
 "nbformat_minor": 4
}
