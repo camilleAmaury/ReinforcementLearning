{
 "cells": [
  {
   "cell_type": "markdown",
   "metadata": {},
   "source": [
    "# Tic Tac Toe RL solving\n",
    "\n",
    "In this notebook we will try to provide a model which is able to play correctly against a human and an other AI"
   ]
  },
  {
   "cell_type": "code",
   "execution_count": 148,
   "metadata": {},
   "outputs": [],
   "source": [
    "import numpy as np\n",
    "import random"
   ]
  },
  {
   "cell_type": "code",
   "execution_count": 149,
   "metadata": {},
   "outputs": [],
   "source": [
    "class TicTacToe(object):\n",
    "    \n",
    "    def __init__(self, player1, player2):\n",
    "        super(TicTacToe, self).__init__()\n",
    "        self.board = np.array([\"v\", \"v\", \"v\", \"v\", \"v\", \"v\", \"v\", \"v\", \"v\"])\n",
    "        \n",
    "        self.players = [player1, player2]\n",
    "        self.markers = [\"x\", \"o\"]\n",
    "        random.shuffle(self.players)\n",
    "        \n",
    "        self.history = []\n",
    "   \n",
    "    def __str__(self):\n",
    "        s = \"_____________\\n\"\n",
    "        for i in range(self.board.shape[0]):\n",
    "            if i % 3 == 0 and i != 0:\n",
    "                s += \"|\\n_____________\\n\"\n",
    "            s += \"| {} \".format(self.board[i])\n",
    "        s += \"|\\n_____________\"\n",
    "        return s\n",
    "    \n",
    "    def __repr__(self):\n",
    "        return \"<Object TicTacToe, Players:[{},{}]>\".format(self.players[0], self.players[1])\n",
    "    \n",
    "    def reset_env(self):\n",
    "        self.board = np.array([\"v\", \"v\", \"v\", \"v\", \"v\", \"v\", \"v\", \"v\", \"v\"])\n",
    "        random.shuffle(self.players)\n",
    "        self.history = []\n",
    "        \n",
    "    def run_game(self, verbose=0):\n",
    "        done = False\n",
    "        while not done:\n",
    "            turn = len(self.history)%2\n",
    "            p = self.players[turn]\n",
    "            m = self.markers[turn]\n",
    "            \n",
    "            # player give an action following the grid\n",
    "            choices = self.get_choices()\n",
    "            action = p.step(self.history, choices)\n",
    "            if action in choices:\n",
    "                self.board[action] = m\n",
    "                self.history.append(action)\n",
    "            else:\n",
    "                raise Exception(\"Error - You choose the action {} but were only available {}\".format(action, choices))\n",
    "            # prints\n",
    "            if verbose==2:\n",
    "                print(self)\n",
    "            #checks\n",
    "            done = self.has_win(m)\n",
    "            if not done:\n",
    "                done = self.is_board_full(verbose)\n",
    "                if done:\n",
    "                    p.update(0)\n",
    "                    self.players[(turn+1)%2].update(0)\n",
    "            else:\n",
    "                p.update(1)\n",
    "                self.players[(turn+1)%2].update(-1)\n",
    "                if verbose >= 1:\n",
    "                    print(\"Player {} wins :\\n{}\".format(p, self))\n",
    "    \n",
    "    def is_board_full(self, verbose):\n",
    "        cond = len(self.history) == self.board.shape[0]\n",
    "        if cond and verbose >= 1:\n",
    "            print(\"Game is finished with no winner\")\n",
    "        return cond\n",
    "    \n",
    "    def has_win(self, marker):\n",
    "        cond = False\n",
    "        # row\n",
    "        cond = cond or (self.board[0] == marker and self.board[1] == marker and self.board[2] == marker) or \\\n",
    "            (self.board[3] == marker and self.board[4] == marker and self.board[5] == marker) or \\\n",
    "            (self.board[6] == marker and self.board[7] == marker and self.board[8] == marker)\n",
    "        # column\n",
    "        cond = cond or (self.board[0] == marker and self.board[3] == marker and self.board[6] == marker) or \\\n",
    "            (self.board[1] == marker and self.board[4] == marker and self.board[7] == marker) or \\\n",
    "            (self.board[2] == marker and self.board[5] == marker and self.board[8] == marker)\n",
    "        # diagonals\n",
    "        cond = cond or (self.board[0] == marker and self.board[4] == marker and self.board[8] == marker) or \\\n",
    "            (self.board[2] == marker and self.board[4] == marker and self.board[6] == marker)\n",
    "        return cond\n",
    "        \n",
    "    def get_choices(self):\n",
    "        choices = [i for i in range(0,9)]\n",
    "        for i in self.history:\n",
    "            choices.remove(i)\n",
    "        return choices\n",
    "            \n",
    "        "
   ]
  },
  {
   "cell_type": "code",
   "execution_count": 150,
   "metadata": {},
   "outputs": [],
   "source": [
    "class Player(object):\n",
    "    def __init__(self, name):\n",
    "        super(Player, self).__init__()\n",
    "        self.name = name\n",
    "        \n",
    "    def step(self, history, choices):\n",
    "        action = random.choice(choices)\n",
    "        return action\n",
    "    \n",
    "    def update(self, reward):\n",
    "        pass\n",
    "    \n",
    "    def __str__(self):\n",
    "        return self.name\n",
    "    def __repr__(self):\n",
    "        return \"<Object Player:Random, Name:{}>\".format(self.name)"
   ]
  },
  {
   "cell_type": "code",
   "execution_count": 173,
   "metadata": {},
   "outputs": [],
   "source": [
    "class Player_Q_Learning(object):\n",
    "    def __init__(self, name, epsilon=1., gamma=0.9, rates=[0.01, 0.01, 0.01]):\n",
    "        super(Player_Q_Learning, self).__init__()\n",
    "        self.name = name\n",
    "        self.rates = rates\n",
    "        self.gamma = gamma\n",
    "        self.epsilon = epsilon\n",
    "        self.states = {}\n",
    "        self.states_actions = []\n",
    "        self.last_state = None\n",
    "        \n",
    "    def step(self, history, choices):\n",
    "        action = 0\n",
    "        state = [-1,-1]\n",
    "        state[0] = self.check_key_exists(str(choices).replace(\"[\", \"\").replace(\"]\", \"\").replace(\", \", \"-\"), len(choices))\n",
    "        if np.random.rand() <= self.epsilon:\n",
    "            state[1] = random.choice(range(len(choices)))\n",
    "            action = choices[state[1]]\n",
    "            \n",
    "            # update weights\n",
    "            self.update_from_previous(state)\n",
    "        else:\n",
    "            state[1], action = self.argmax(self.states_actions[state[0]], choices)\n",
    "            \n",
    "            # update weights\n",
    "            self.update_from_previous(state)\n",
    "        self.last_state = state\n",
    "        return action\n",
    "    \n",
    "    def update(self, reward):\n",
    "        if self.last_state != None:\n",
    "            self.states_actions[self.last_state[0]][self.last_state[1]] = reward\n",
    "        self.epsilon = self.epsilon - self.rates[1]\n",
    "        if self.epsilon < self.rates[2]:\n",
    "            self.epsilon = self.rates[2]\n",
    "    \n",
    "    def update_from_previous(self, state):\n",
    "        if self.last_state != None:\n",
    "            new = self.states_actions[self.last_state[0]][self.last_state[1]]\n",
    "            self.states_actions[state[0]][state[1]] += self.rates[0] * (0 + self.gamma * new - self.states_actions[state[0]][state[1]])\n",
    "        pass\n",
    "    \n",
    "    def __str__(self):\n",
    "        return self.name\n",
    "    def __repr__(self):\n",
    "        return \"<Object Player:QLearning, Name:{}>\".format(self.name)\n",
    "    \n",
    "    def check_key_exists(self, key, choices):\n",
    "        try:\n",
    "            i = self.states[key]\n",
    "            return i\n",
    "        except:\n",
    "            self.states[key] = len(self.states_actions)\n",
    "            self.states_actions.append([0 for i in range(choices)])\n",
    "            return self.check_key_exists(key, choices)\n",
    "        \n",
    "    def argmax(self, array, choices):\n",
    "        max_i = 0\n",
    "        max_val = -9999999\n",
    "        for i in range(len(array)):\n",
    "            if array[i] > max_val:\n",
    "                max_val = array[i]\n",
    "                max_i = i\n",
    "        return (max_i, choices[max_i])"
   ]
  },
  {
   "cell_type": "code",
   "execution_count": 174,
   "metadata": {},
   "outputs": [
    {
     "data": {
      "text/plain": [
       "<Object TicTacToe, Players:[Tonclurette,Tonclure]>"
      ]
     },
     "execution_count": 174,
     "metadata": {},
     "output_type": "execute_result"
    }
   ],
   "source": [
    "p1 = Player(\"Tonclure\")\n",
    "p2 = Player_Q_Learning(\"Tonclurette\")\n",
    "\n",
    "ttt = TicTacToe(p1, p2)\n",
    "ttt"
   ]
  },
  {
   "cell_type": "code",
   "execution_count": 175,
   "metadata": {},
   "outputs": [
    {
     "name": "stdout",
     "output_type": "stream",
     "text": [
      "creating\n",
      "not creating\n",
      "creating\n",
      "not creating\n",
      "creating\n",
      "not creating\n",
      "creating\n",
      "not creating\n",
      "Player Tonclurette wins :\n",
      "_____________\n",
      "| x | v | o |\n",
      "_____________\n",
      "| x | o | v |\n",
      "_____________\n",
      "| x | o | x |\n",
      "_____________\n"
     ]
    }
   ],
   "source": [
    "ttt.run_game(verbose=1)"
   ]
  },
  {
   "cell_type": "code",
   "execution_count": 177,
   "metadata": {},
   "outputs": [
    {
     "data": {
      "text/plain": [
       "{'0-1-2-3-4-5-6-7-8': 0, '0-1-2-3-4-5-6': 1, '1-3-4-5-6': 2, '1-5-6': 3}"
      ]
     },
     "execution_count": 177,
     "metadata": {},
     "output_type": "execute_result"
    }
   ],
   "source": [
    "p2.states"
   ]
  },
  {
   "cell_type": "code",
   "execution_count": null,
   "metadata": {},
   "outputs": [],
   "source": [
    "\n"
   ]
  },
  {
   "cell_type": "code",
   "execution_count": null,
   "metadata": {},
   "outputs": [],
   "source": []
  }
 ],
 "metadata": {
  "kernelspec": {
   "display_name": "Python 3",
   "language": "python",
   "name": "python3"
  },
  "language_info": {
   "codemirror_mode": {
    "name": "ipython",
    "version": 3
   },
   "file_extension": ".py",
   "mimetype": "text/x-python",
   "name": "python",
   "nbconvert_exporter": "python",
   "pygments_lexer": "ipython3",
   "version": "3.7.6"
  }
 },
 "nbformat": 4,
 "nbformat_minor": 4
}
