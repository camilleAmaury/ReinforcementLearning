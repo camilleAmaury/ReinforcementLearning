{
 "cells": [
  {
   "cell_type": "markdown",
   "metadata": {},
   "source": [
    "# Tic Tac Toe RL solving\n",
    "\n",
    "In this notebook we will try to provide a model which is able to play correctly against a human and an other AI"
   ]
  },
  {
   "cell_type": "markdown",
   "metadata": {},
   "source": [
    "## Imports"
   ]
  },
  {
   "cell_type": "code",
   "execution_count": 1,
   "metadata": {},
   "outputs": [],
   "source": [
    "from classes.Agent.Agent import Agent\n",
    "from classes.Agent.HumanAgent import HumanAgent\n",
    "from classes.Agent.QLearningAgent import QLearningAgent\n",
    "from classes.TicTacToe import TicTacToe"
   ]
  },
  {
   "cell_type": "code",
   "execution_count": 2,
   "metadata": {},
   "outputs": [],
   "source": [
    "import matplotlib.pyplot as plt\n",
    "import numpy as np"
   ]
  },
  {
   "cell_type": "markdown",
   "metadata": {},
   "source": [
    "## Configuration"
   ]
  },
  {
   "cell_type": "code",
   "execution_count": 3,
   "metadata": {},
   "outputs": [],
   "source": [
    "rewards = {\n",
    "    \"error_reward\":-10.,\n",
    "    \"null_reward\":0.,\n",
    "    \"win_reward\":10.,\n",
    "    \"lose_reward\":-1.,\n",
    "    \"draw_reward\":-0.9\n",
    "}\n",
    "epochs = 1_000_000\n",
    "epsilon_decrease = 1. / epochs"
   ]
  },
  {
   "cell_type": "markdown",
   "metadata": {},
   "source": [
    "## Games"
   ]
  },
  {
   "cell_type": "markdown",
   "metadata": {},
   "source": [
    "### Q-learning Agents"
   ]
  },
  {
   "cell_type": "markdown",
   "metadata": {},
   "source": [
    "#### epsilon decrease tests"
   ]
  },
  {
   "cell_type": "code",
   "execution_count": 4,
   "metadata": {},
   "outputs": [],
   "source": [
    "agents = [\n",
    "    {\"name\":\"QLearningAgent1\", \"epsilon_decrease\":0.00001, \"epsilon_min\":0.01, \"gamma\":0.99, \"learning_rate\":0.01},\n",
    "    {\"name\":\"QLearningAgent2\", \"epsilon_decrease\":0.00005, \"epsilon_min\":0.01, \"gamma\":0.99, \"learning_rate\":0.01},\n",
    "    {\"name\":\"QLearningAgent3\", \"epsilon_decrease\":0.0001, \"epsilon_min\":0.01, \"gamma\":0.99, \"learning_rate\":0.01},\n",
    "    {\"name\":\"QLearningAgent4\", \"epsilon_decrease\":0.0002, \"epsilon_min\":0.01, \"gamma\":0.99, \"learning_rate\":0.01},\n",
    "    {\"name\":\"QLearningAgent5\", \"epsilon_decrease\":0.0005, \"epsilon_min\":0.01, \"gamma\":0.99, \"learning_rate\":0.01},\n",
    "]\n",
    "scores = np.array([[0, 0, 0, 0, 0] for _ in agents], dtype=int)"
   ]
  },
  {
   "cell_type": "code",
   "execution_count": 5,
   "metadata": {},
   "outputs": [
    {
     "name": "stderr",
     "output_type": "stream",
     "text": [
      "100%|██████████| 1000000/1000000 [01:12<00:00, 13832.61it/s]\n",
      "100%|██████████| 1000000/1000000 [01:07<00:00, 14892.19it/s]\n",
      "100%|██████████| 1000000/1000000 [01:07<00:00, 14732.99it/s]\n",
      "100%|██████████| 1000000/1000000 [01:08<00:00, 14542.40it/s]\n",
      "100%|██████████| 1000000/1000000 [01:10<00:00, 14249.65it/s]\n",
      "100%|██████████| 1000000/1000000 [01:11<00:00, 13941.12it/s]\n",
      "100%|██████████| 1000000/1000000 [01:16<00:00, 13069.34it/s]\n",
      "100%|██████████| 1000000/1000000 [01:10<00:00, 14283.03it/s]\n",
      "100%|██████████| 1000000/1000000 [01:14<00:00, 13469.94it/s]\n",
      "100%|██████████| 1000000/1000000 [01:15<00:00, 13278.94it/s]\n"
     ]
    }
   ],
   "source": [
    "for i in range(len(agents)):\n",
    "    for j in range(i+1,len(agents)):\n",
    "        p1 = agents[i]\n",
    "        p1 = QLearningAgent(p1[\"name\"], epsilon=1., epsilon_decrease=p1[\"epsilon_decrease\"], \n",
    "                       epsilon_min=p1[\"epsilon_min\"], gamma=p1[\"gamma\"], learning_rate=p1[\"learning_rate\"])\n",
    "        p2 = agents[j]\n",
    "        p2 = QLearningAgent(p2[\"name\"], epsilon=1., epsilon_decrease=p2[\"epsilon_decrease\"], \n",
    "                       epsilon_min=p2[\"epsilon_min\"], gamma=p2[\"gamma\"], learning_rate=p2[\"learning_rate\"])\n",
    "        \n",
    "        ttt = TicTacToe(p1, p2, rewards)\n",
    "        ttt.train(epochs=epochs, verbose=0)\n",
    "        scores[i] += p1.results\n",
    "        scores[j] += p2.results"
   ]
  },
  {
   "cell_type": "code",
   "execution_count": 6,
   "metadata": {},
   "outputs": [
    {
     "data": {
      "image/png": "[encoded data removed]",
      "text/plain": [
       "<Figure size 432x288 with 1 Axes>"
      ]
     },
     "metadata": {
      "needs_background": "light"
     },
     "output_type": "display_data"
    }
   ],
   "source": [
    "wins = scores[:,0]\n",
    "draws = scores[:,1]\n",
    "loses = scores[:,2]\n",
    "errors = scores[:,3]\n",
    "adv_errors = scores[:,4]\n",
    "ind = np.arange(len(scores)) # the x locations for the groups\n",
    "width = 0.35\n",
    "fig = plt.figure()\n",
    "ax = fig.add_axes([0,0,1,1])\n",
    "ax.bar(ind, wins, width, color='r')\n",
    "ax.bar(ind, draws, width,bottom=wins, color='b')\n",
    "ax.bar(ind, loses, width,bottom=wins+draws, color='g')\n",
    "ax.bar(ind, errors, width,bottom=wins+draws+loses, color='m')\n",
    "ax.bar(ind, adv_errors, width,bottom=wins+draws+loses+errors, color='y')\n",
    "ax.set_xlabel('epsilon_decrease')\n",
    "ax.set_ylabel('Number of Games')\n",
    "ax.set_title('Scores by Qlearning model')\n",
    "ax.set_xticks(ind)\n",
    "ax.set_xticklabels( [str(i[\"epsilon_decrease\"]) for i in agents])\n",
    "ax.legend(labels=['wins', 'draws', 'loses', 'errors', 'adv_errors'])\n",
    "plt.show()"
   ]
  },
  {
   "cell_type": "code",
   "execution_count": null,
   "metadata": {},
   "outputs": [],
   "source": []
  }
 ],
 "metadata": {
  "kernelspec": {
   "display_name": "Python 3",
   "language": "python",
   "name": "python3"
  },
  "language_info": {
   "codemirror_mode": {
    "name": "ipython",
    "version": 3
   },
   "file_extension": ".py",
   "mimetype": "text/x-python",
   "name": "python",
   "nbconvert_exporter": "python",
   "pygments_lexer": "ipython3",
   "version": "3.8.8"
  }
 },
 "nbformat": 4,
 "nbformat_minor": 4
}
