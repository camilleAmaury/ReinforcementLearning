{
 "cells": [
  {
   "cell_type": "markdown",
   "id": "damaged-gospel",
   "metadata": {},
   "source": [
    "# Tic Tac Toe Deep Q-Learning solving\n",
    "\n",
    "In this notebook we will try to provide a model which is able to play correctly against a human and an other AI"
   ]
  },
  {
   "cell_type": "markdown",
   "id": "fifteen-hands",
   "metadata": {},
   "source": [
    "## Imports"
   ]
  },
  {
   "cell_type": "code",
   "execution_count": 6,
   "id": "offensive-invalid",
   "metadata": {},
   "outputs": [],
   "source": [
    "from classes.TicTacToe import TicTacToe\n",
    "from classes.Agent.Agent import Agent\n",
    "from classes.Agent.HumanAgent import HumanAgent\n",
    "from classes.Agent.DQLearningAgent import DQLearningAgent"
   ]
  },
  {
   "cell_type": "code",
   "execution_count": 7,
   "id": "prerequisite-lightweight",
   "metadata": {},
   "outputs": [],
   "source": [
    "from keras.layers import Dense, Activation\n",
    "from keras.models import Sequential, load_model\n",
    "from keras.optimizers import Adam\n",
    "import matplotlib.pyplot as plt\n",
    "import numpy as np"
   ]
  },
  {
   "cell_type": "markdown",
   "id": "informative-distinction",
   "metadata": {},
   "source": [
    "## Configuration"
   ]
  },
  {
   "cell_type": "code",
   "execution_count": 1,
   "id": "ecological-voice",
   "metadata": {},
   "outputs": [],
   "source": [
    "rewards = {\n",
    "    \"error_reward\":-10.,\n",
    "    \"null_reward\":-0.75,\n",
    "    \"win_reward\":5.,\n",
    "    \"lose_reward\":-1.,\n",
    "    \"draw_reward\":-0.75\n",
    "}\n",
    "epochs = 1_000_000\n",
    "epsilon_decrease = 1. / epochs"
   ]
  },
  {
   "cell_type": "markdown",
   "id": "organic-blocking",
   "metadata": {},
   "source": [
    "## Games"
   ]
  },
  {
   "cell_type": "markdown",
   "id": "lightweight-telephone",
   "metadata": {},
   "source": [
    "### Deep Q-learning Agents\n",
    "\n",
    "Following Bellman's equation, experience replay with buffer replay, espilon greedy policy"
   ]
  },
  {
   "cell_type": "code",
   "execution_count": 3,
   "id": "documented-length",
   "metadata": {},
   "outputs": [],
   "source": [
    "def build_network(learning_rate, n_actions, input_dims, fc1_dims, fc2_dims):\n",
    "    model = Sequential([\n",
    "        Dense(fc1_dims, input_shape=(input_dims,)), \n",
    "        Activation('relu'),\n",
    "        Dense(fc2_dims),\n",
    "        Activation('relu'),\n",
    "        Dense(n_actions)\n",
    "    ])\n",
    "    \n",
    "    model.compile(optimizer=Adam(lr=learning_rate),loss=\"mse\")\n",
    "    \n",
    "    return model"
   ]
  },
  {
   "cell_type": "code",
   "execution_count": 8,
   "id": "rubber-surname",
   "metadata": {},
   "outputs": [
    {
     "ename": "TypeError",
     "evalue": "__init__() got an unexpected keyword argument 'gamma'",
     "output_type": "error",
     "traceback": [
      "\u001b[1;31m---------------------------------------------------------------------------\u001b[0m",
      "\u001b[1;31mTypeError\u001b[0m                                 Traceback (most recent call last)",
      "\u001b[1;32m<ipython-input-8-6caf4922ab83>\u001b[0m in \u001b[0;36m<module>\u001b[1;34m\u001b[0m\n\u001b[1;32m----> 1\u001b[1;33m agent = Agent(gamma=0.99, epsilon=1.0, alpha=0.0005, input_dims=8, n_actions=4,\n\u001b[0m\u001b[0;32m      2\u001b[0m              fn=build_network,mem_size=1_000_000, batch_size=64, epsilon_end=0.01)\n",
      "\u001b[1;31mTypeError\u001b[0m: __init__() got an unexpected keyword argument 'gamma'"
     ]
    }
   ],
   "source": [
    "agent = DQLearningAgent(gamma=0.99, epsilon=1.0, alpha=0.0005, input_dims=8, n_actions=4,\n",
    "             fn=build_network,mem_size=1_000_000, batch_size=64, epsilon_end=0.01)"
   ]
  },
  {
   "cell_type": "code",
   "execution_count": null,
   "id": "opening-publication",
   "metadata": {},
   "outputs": [],
   "source": [
    "agents = [\n",
    "    {\"name\":\"QLearningAgent1\", \"epsilon_decrease\":0.00001, \"epsilon_min\":0.001, \"gamma\":0.99, \"learning_rate\":0.01},\n",
    "    {\"name\":\"QLearningAgent2\", \"epsilon_decrease\":0.00002, \"epsilon_min\":0.001, \"gamma\":0.99, \"learning_rate\":0.01},\n",
    "    {\"name\":\"QLearningAgent3\", \"epsilon_decrease\":0.00005, \"epsilon_min\":0.001, \"gamma\":0.99, \"learning_rate\":0.01},\n",
    "    {\"name\":\"QLearningAgent4\", \"epsilon_decrease\":0.0001, \"epsilon_min\":0.001, \"gamma\":0.99, \"learning_rate\":0.01},\n",
    "    {\"name\":\"QLearningAgent5\", \"epsilon_decrease\":0.0002, \"epsilon_min\":0.001, \"gamma\":0.99, \"learning_rate\":0.01},\n",
    "    {\"name\":\"QLearningAgent6\", \"epsilon_decrease\":0.0005, \"epsilon_min\":0.001, \"gamma\":0.99, \"learning_rate\":0.01},\n",
    "]\n",
    "scores = np.array([[0, 0, 0, 0, 0] for _ in agents], dtype=int)\n",
    "agents_obj = []"
   ]
  }
 ],
 "metadata": {
  "kernelspec": {
   "display_name": "Python 3",
   "language": "python",
   "name": "python3"
  },
  "language_info": {
   "codemirror_mode": {
    "name": "ipython",
    "version": 3
   },
   "file_extension": ".py",
   "mimetype": "text/x-python",
   "name": "python",
   "nbconvert_exporter": "python",
   "pygments_lexer": "ipython3",
   "version": "3.8.8"
  }
 },
 "nbformat": 4,
 "nbformat_minor": 5
}
