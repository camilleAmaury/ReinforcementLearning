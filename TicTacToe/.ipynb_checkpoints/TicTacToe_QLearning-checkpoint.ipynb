{
 "cells": [
  {
   "cell_type": "markdown",
   "metadata": {},
   "source": [
    "# Tic Tac Toe Q-Learning solving\n",
    "\n",
    "In this notebook we will try to provide a model which is able to play correctly against a human and an other AI"
   ]
  },
  {
   "cell_type": "markdown",
   "metadata": {},
   "source": [
    "## Imports"
   ]
  },
  {
   "cell_type": "code",
   "execution_count": 1,
   "metadata": {},
   "outputs": [],
   "source": [
    "from classes.Agent.Agent import Agent\n",
    "from classes.Agent.HumanAgent import HumanAgent\n",
    "from classes.Agent.QLearningAgent import QLearningAgent\n",
    "from classes.TicTacToe import TicTacToe"
   ]
  },
  {
   "cell_type": "code",
   "execution_count": 2,
   "metadata": {},
   "outputs": [],
   "source": [
    "import matplotlib.pyplot as plt\n",
    "import numpy as np"
   ]
  },
  {
   "cell_type": "markdown",
   "metadata": {},
   "source": [
    "## Configuration"
   ]
  },
  {
   "cell_type": "code",
   "execution_count": 3,
   "metadata": {},
   "outputs": [],
   "source": [
    "rewards = {\n",
    "    \"error_reward\":-10.,\n",
    "    \"null_reward\":-0.75,\n",
    "    \"win_reward\":5.,\n",
    "    \"lose_reward\":-1.,\n",
    "    \"draw_reward\":-0.75\n",
    "}\n",
    "epochs = 1_000_000\n",
    "epsilon_decrease = 1. / epochs"
   ]
  },
  {
   "cell_type": "markdown",
   "metadata": {},
   "source": [
    "## Games"
   ]
  },
  {
   "cell_type": "markdown",
   "metadata": {},
   "source": [
    "### Q-learning Agents\n",
    "\n",
    "Here is the following equation used to update the Q matrix.\n",
    "\n",
    "![Q](images/qlearning_equation.PNG)"
   ]
  },
  {
   "cell_type": "markdown",
   "metadata": {},
   "source": [
    "#### epsilon decrease tests"
   ]
  },
  {
   "cell_type": "code",
   "execution_count": 4,
   "metadata": {},
   "outputs": [],
   "source": [
    "agents = [\n",
    "    {\"name\":\"QLearningAgent1\", \"epsilon_decrease\":0.00001, \"epsilon_min\":0.001, \"gamma\":0.99, \"learning_rate\":0.01},\n",
    "    {\"name\":\"QLearningAgent2\", \"epsilon_decrease\":0.00002, \"epsilon_min\":0.001, \"gamma\":0.99, \"learning_rate\":0.01},\n",
    "    {\"name\":\"QLearningAgent3\", \"epsilon_decrease\":0.00005, \"epsilon_min\":0.001, \"gamma\":0.99, \"learning_rate\":0.01},\n",
    "    {\"name\":\"QLearningAgent4\", \"epsilon_decrease\":0.0001, \"epsilon_min\":0.001, \"gamma\":0.99, \"learning_rate\":0.01},\n",
    "    {\"name\":\"QLearningAgent5\", \"epsilon_decrease\":0.0002, \"epsilon_min\":0.001, \"gamma\":0.99, \"learning_rate\":0.01},\n",
    "    {\"name\":\"QLearningAgent6\", \"epsilon_decrease\":0.0005, \"epsilon_min\":0.001, \"gamma\":0.99, \"learning_rate\":0.01},\n",
    "]\n",
    "scores = np.array([[0, 0, 0, 0, 0] for _ in agents], dtype=int)\n",
    "agents_obj = []"
   ]
  },
  {
   "cell_type": "code",
   "execution_count": 5,
   "metadata": {},
   "outputs": [
    {
     "name": "stderr",
     "output_type": "stream",
     "text": [
      "100%|██████████| 1000000/1000000 [01:25<00:00, 11744.07it/s]\n",
      "100%|██████████| 1000000/1000000 [01:28<00:00, 11320.15it/s]\n",
      "100%|██████████| 1000000/1000000 [01:50<00:00, 9053.24it/s]\n"
     ]
    }
   ],
   "source": [
    "for i in range(0, len(agents), 2):\n",
    "    p1 = agents[i]\n",
    "    p1 = QLearningAgent(p1[\"name\"], epsilon=1., epsilon_decrease=p1[\"epsilon_decrease\"], \n",
    "                       epsilon_min=p1[\"epsilon_min\"], gamma=p1[\"gamma\"], learning_rate=p1[\"learning_rate\"])\n",
    "    p2 = agents[i+1]\n",
    "    p2 = QLearningAgent(p2[\"name\"], epsilon=1., epsilon_decrease=p2[\"epsilon_decrease\"], \n",
    "                       epsilon_min=p2[\"epsilon_min\"], gamma=p2[\"gamma\"], learning_rate=p2[\"learning_rate\"])\n",
    "        \n",
    "    ttt = TicTacToe(p1, p2, rewards)\n",
    "    ttt.train(epochs=epochs, verbose=0)\n",
    "    agents_obj.append(p1)\n",
    "    agents_obj.append(p2)"
   ]
  },
  {
   "cell_type": "code",
   "execution_count": 12,
   "metadata": {},
   "outputs": [
    {
     "name": "stderr",
     "output_type": "stream",
     "text": [
      "100%|██████████| 1000000/1000000 [01:05<00:00, 15207.34it/s]\n",
      "100%|██████████| 1000000/1000000 [01:00<00:00, 16483.03it/s]\n",
      "100%|██████████| 1000000/1000000 [01:03<00:00, 15780.50it/s]\n",
      "100%|██████████| 1000000/1000000 [01:06<00:00, 14970.06it/s]\n",
      "100%|██████████| 1000000/1000000 [01:11<00:00, 14030.50it/s]\n",
      "100%|██████████| 1000000/1000000 [00:57<00:00, 17412.70it/s]\n",
      "100%|██████████| 1000000/1000000 [01:08<00:00, 14636.33it/s]\n",
      "100%|██████████| 1000000/1000000 [01:20<00:00, 12349.48it/s]\n",
      "100%|██████████| 1000000/1000000 [01:15<00:00, 13241.22it/s]\n",
      "100%|██████████| 1000000/1000000 [01:07<00:00, 14778.97it/s]\n",
      "100%|██████████| 1000000/1000000 [01:27<00:00, 11450.02it/s]\n",
      "100%|██████████| 1000000/1000000 [01:08<00:00, 14684.02it/s]\n",
      "100%|██████████| 1000000/1000000 [01:26<00:00, 11503.44it/s]\n",
      "100%|██████████| 1000000/1000000 [01:11<00:00, 13998.04it/s]\n",
      "100%|██████████| 1000000/1000000 [01:27<00:00, 11407.23it/s]\n"
     ]
    }
   ],
   "source": [
    "for i in range(len(agents_obj)):\n",
    "    for j in range(i+1,len(agents_obj)):\n",
    "        p1 = agents_obj[i]\n",
    "        p2 = agents_obj[j]\n",
    "        \n",
    "        ttt = TicTacToe(p1, p2, rewards)\n",
    "        ttt.play(games=epochs, verbose=0)\n",
    "        scores[i] += p1.results\n",
    "        scores[j] += p2.results"
   ]
  },
  {
   "cell_type": "code",
   "execution_count": 13,
   "metadata": {},
   "outputs": [
    {
     "data": {
      "image/png": "[encoded data removed]",
      "text/plain": [
       "<Figure size 432x288 with 1 Axes>"
      ]
     },
     "metadata": {
      "needs_background": "light"
     },
     "output_type": "display_data"
    }
   ],
   "source": [
    "wins = scores[:,0]\n",
    "draws = scores[:,1]\n",
    "loses = scores[:,2]\n",
    "errors = scores[:,3]\n",
    "adv_errors = scores[:,4]\n",
    "ind = np.arange(len(scores)) # the x locations for the groups\n",
    "width = 0.35\n",
    "fig = plt.figure()\n",
    "ax = fig.add_axes([0,0,1,1])\n",
    "ax.bar(ind, wins, width, color='r')\n",
    "ax.bar(ind, draws, width,bottom=wins, color='b')\n",
    "ax.bar(ind, loses, width,bottom=wins+draws, color='g')\n",
    "ax.bar(ind, errors, width,bottom=wins+draws+loses, color='m')\n",
    "ax.bar(ind, adv_errors, width,bottom=wins+draws+loses+errors, color='y')\n",
    "ax.set_xlabel('epsilon_decrease')\n",
    "ax.set_ylabel('Number of Games')\n",
    "ax.set_title('Scores by Qlearning model')\n",
    "ax.set_xticks(ind)\n",
    "ax.set_xticklabels( [str(i[\"epsilon_decrease\"]) for i in agents])\n",
    "ax.legend(labels=['wins', 'draws', 'loses', 'errors', 'adv_errors'])\n",
    "plt.show()"
   ]
  },
  {
   "cell_type": "markdown",
   "metadata": {},
   "source": [
    "interpretations : \n",
    "* Models 5,6 are slightly better. The number of win and draws is way higher than the loses.\n",
    "* Models 5,6 have more time to exploit and reinforce the best choices' path, in this cas it proves behind good since they just have some deafeat compared to other models"
   ]
  },
  {
   "cell_type": "markdown",
   "metadata": {},
   "source": [
    "#### gamma tests\n",
    "\n",
    "we will keep espsilon_decrease 0.0005 fixed this time, regarding last results."
   ]
  },
  {
   "cell_type": "code",
   "execution_count": 14,
   "metadata": {},
   "outputs": [],
   "source": [
    "agents = [\n",
    "    {\"name\":\"QLearningAgent1\", \"epsilon_decrease\":0.0005, \"epsilon_min\":0.001, \"gamma\":0.60, \"learning_rate\":0.01},\n",
    "    {\"name\":\"QLearningAgent2\", \"epsilon_decrease\":0.0005, \"epsilon_min\":0.001, \"gamma\":0.70, \"learning_rate\":0.01},\n",
    "    {\"name\":\"QLearningAgent3\", \"epsilon_decrease\":0.0005, \"epsilon_min\":0.001, \"gamma\":0.80, \"learning_rate\":0.01},\n",
    "    {\"name\":\"QLearningAgent4\", \"epsilon_decrease\":0.0005, \"epsilon_min\":0.001, \"gamma\":0.90, \"learning_rate\":0.01},\n",
    "    {\"name\":\"QLearningAgent5\", \"epsilon_decrease\":0.0005, \"epsilon_min\":0.001, \"gamma\":0.95, \"learning_rate\":0.01},\n",
    "    {\"name\":\"QLearningAgent6\", \"epsilon_decrease\":0.0005, \"epsilon_min\":0.001, \"gamma\":0.99, \"learning_rate\":0.01},\n",
    "]\n",
    "scores = np.array([[0, 0, 0, 0, 0] for _ in agents], dtype=int)\n",
    "agents_obj = []"
   ]
  },
  {
   "cell_type": "code",
   "execution_count": 15,
   "metadata": {},
   "outputs": [
    {
     "name": "stderr",
     "output_type": "stream",
     "text": [
      "100%|██████████| 1000000/1000000 [01:46<00:00, 9431.08it/s]\n",
      "100%|██████████| 1000000/1000000 [01:49<00:00, 9157.02it/s]\n",
      "100%|██████████| 1000000/1000000 [01:53<00:00, 8827.80it/s]\n"
     ]
    }
   ],
   "source": [
    "for i in range(0, len(agents), 2):\n",
    "    p1 = agents[i]\n",
    "    p1 = QLearningAgent(p1[\"name\"], epsilon=1., epsilon_decrease=p1[\"epsilon_decrease\"], \n",
    "                       epsilon_min=p1[\"epsilon_min\"], gamma=p1[\"gamma\"], learning_rate=p1[\"learning_rate\"])\n",
    "    p2 = agents[i+1]\n",
    "    p2 = QLearningAgent(p2[\"name\"], epsilon=1., epsilon_decrease=p2[\"epsilon_decrease\"], \n",
    "                       epsilon_min=p2[\"epsilon_min\"], gamma=p2[\"gamma\"], learning_rate=p2[\"learning_rate\"])\n",
    "        \n",
    "    ttt = TicTacToe(p1, p2, rewards)\n",
    "    ttt.train(epochs=epochs, verbose=0)\n",
    "    agents_obj.append(p1)\n",
    "    agents_obj.append(p2)"
   ]
  },
  {
   "cell_type": "code",
   "execution_count": 16,
   "metadata": {},
   "outputs": [
    {
     "name": "stderr",
     "output_type": "stream",
     "text": [
      "100%|██████████| 1000000/1000000 [01:26<00:00, 11533.45it/s]\n",
      "100%|██████████| 1000000/1000000 [00:46<00:00, 21293.30it/s]\n",
      "100%|██████████| 1000000/1000000 [00:46<00:00, 21605.17it/s]\n",
      "100%|██████████| 1000000/1000000 [01:16<00:00, 13042.11it/s]\n",
      "100%|██████████| 1000000/1000000 [01:17<00:00, 12896.81it/s]\n",
      "100%|██████████| 1000000/1000000 [01:02<00:00, 16033.26it/s]\n",
      "100%|██████████| 1000000/1000000 [00:51<00:00, 19349.54it/s]\n",
      "100%|██████████| 1000000/1000000 [01:05<00:00, 15359.19it/s]\n",
      "100%|██████████| 1000000/1000000 [01:08<00:00, 14704.83it/s]\n",
      "100%|██████████| 1000000/1000000 [01:18<00:00, 12713.97it/s]\n",
      "100%|██████████| 1000000/1000000 [00:47<00:00, 21117.51it/s]\n",
      "100%|██████████| 1000000/1000000 [01:15<00:00, 13266.66it/s]\n",
      "100%|██████████| 1000000/1000000 [01:01<00:00, 16276.81it/s]\n",
      "100%|██████████| 1000000/1000000 [00:52<00:00, 18988.69it/s]\n",
      "100%|██████████| 1000000/1000000 [01:27<00:00, 11428.42it/s]\n"
     ]
    }
   ],
   "source": [
    "for i in range(len(agents_obj)):\n",
    "    for j in range(i+1,len(agents_obj)):\n",
    "        p1 = agents_obj[i]\n",
    "        p2 = agents_obj[j]\n",
    "        \n",
    "        ttt = TicTacToe(p1, p2, rewards)\n",
    "        ttt.play(games=epochs, verbose=0)\n",
    "        scores[i] += p1.results\n",
    "        scores[j] += p2.results"
   ]
  },
  {
   "cell_type": "code",
   "execution_count": 17,
   "metadata": {},
   "outputs": [
    {
     "data": {
      "image/png": "[encoded data removed]",
      "text/plain": [
       "<Figure size 432x288 with 1 Axes>"
      ]
     },
     "metadata": {
      "needs_background": "light"
     },
     "output_type": "display_data"
    }
   ],
   "source": [
    "wins = scores[:,0]\n",
    "draws = scores[:,1]\n",
    "loses = scores[:,2]\n",
    "errors = scores[:,3]\n",
    "adv_errors = scores[:,4]\n",
    "ind = np.arange(len(scores)) # the x locations for the groups\n",
    "width = 0.35\n",
    "fig = plt.figure()\n",
    "ax = fig.add_axes([0,0,1,1])\n",
    "ax.bar(ind, wins, width, color='r')\n",
    "ax.bar(ind, draws, width,bottom=wins, color='b')\n",
    "ax.bar(ind, loses, width,bottom=wins+draws, color='g')\n",
    "ax.bar(ind, errors, width,bottom=wins+draws+loses, color='m')\n",
    "ax.bar(ind, adv_errors, width,bottom=wins+draws+loses+errors, color='y')\n",
    "ax.set_xlabel('gamma')\n",
    "ax.set_ylabel('Number of Games')\n",
    "ax.set_title('Scores by Qlearning model')\n",
    "ax.set_xticks(ind)\n",
    "ax.set_xticklabels( [str(i[\"gamma\"]) for i in agents])\n",
    "ax.legend(labels=['wins', 'draws', 'loses', 'errors', 'adv_errors'])\n",
    "plt.show()"
   ]
  },
  {
   "cell_type": "markdown",
   "metadata": {},
   "source": [
    "interpretations : \n",
    "* As we have already predicted, the more gamma is high, the more the model performs well. In fact, 0.95,0.99 are both quite similar. It means that the next state is really important regarding the choice we have to take."
   ]
  },
  {
   "cell_type": "markdown",
   "metadata": {},
   "source": [
    "#### Learning Rate tests\n",
    "\n",
    "we will keep espsilon_decrease 0.0005 and gamma 0.99, regarding last results."
   ]
  },
  {
   "cell_type": "code",
   "execution_count": 18,
   "metadata": {},
   "outputs": [],
   "source": [
    "agents = [\n",
    "    {\"name\":\"QLearningAgent1\", \"epsilon_decrease\":0.0005, \"epsilon_min\":0.001, \"gamma\":0.99, \"learning_rate\":0.001},\n",
    "    {\"name\":\"QLearningAgent2\", \"epsilon_decrease\":0.0005, \"epsilon_min\":0.001, \"gamma\":0.99, \"learning_rate\":0.005},\n",
    "    {\"name\":\"QLearningAgent3\", \"epsilon_decrease\":0.0005, \"epsilon_min\":0.001, \"gamma\":0.99, \"learning_rate\":0.01},\n",
    "    {\"name\":\"QLearningAgent4\", \"epsilon_decrease\":0.0005, \"epsilon_min\":0.001, \"gamma\":0.99, \"learning_rate\":0.05},\n",
    "    {\"name\":\"QLearningAgent5\", \"epsilon_decrease\":0.0005, \"epsilon_min\":0.001, \"gamma\":0.99, \"learning_rate\":0.1},\n",
    "    {\"name\":\"QLearningAgent6\", \"epsilon_decrease\":0.0005, \"epsilon_min\":0.001, \"gamma\":0.99, \"learning_rate\":0.2},\n",
    "]\n",
    "scores = np.array([[0, 0, 0, 0, 0] for _ in agents], dtype=int)\n",
    "agents_obj = []"
   ]
  },
  {
   "cell_type": "code",
   "execution_count": 19,
   "metadata": {},
   "outputs": [
    {
     "name": "stderr",
     "output_type": "stream",
     "text": [
      "100%|██████████| 1000000/1000000 [01:49<00:00, 9108.00it/s]\n",
      "100%|██████████| 1000000/1000000 [01:23<00:00, 12037.46it/s]\n",
      "100%|██████████| 1000000/1000000 [01:13<00:00, 13630.21it/s]\n"
     ]
    }
   ],
   "source": [
    "for i in range(0, len(agents), 2):\n",
    "    p1 = agents[i]\n",
    "    p1 = QLearningAgent(p1[\"name\"], epsilon=1., epsilon_decrease=p1[\"epsilon_decrease\"], \n",
    "                       epsilon_min=p1[\"epsilon_min\"], gamma=p1[\"gamma\"], learning_rate=p1[\"learning_rate\"])\n",
    "    p2 = agents[i+1]\n",
    "    p2 = QLearningAgent(p2[\"name\"], epsilon=1., epsilon_decrease=p2[\"epsilon_decrease\"], \n",
    "                       epsilon_min=p2[\"epsilon_min\"], gamma=p2[\"gamma\"], learning_rate=p2[\"learning_rate\"])\n",
    "        \n",
    "    ttt = TicTacToe(p1, p2, rewards)\n",
    "    ttt.train(epochs=epochs, verbose=0)\n",
    "    agents_obj.append(p1)\n",
    "    agents_obj.append(p2)"
   ]
  },
  {
   "cell_type": "code",
   "execution_count": 20,
   "metadata": {},
   "outputs": [
    {
     "name": "stderr",
     "output_type": "stream",
     "text": [
      "100%|██████████| 1000000/1000000 [01:26<00:00, 11542.89it/s]\n",
      "100%|██████████| 1000000/1000000 [01:05<00:00, 15324.86it/s]\n",
      "100%|██████████| 1000000/1000000 [01:00<00:00, 16527.95it/s]\n",
      "100%|██████████| 1000000/1000000 [00:47<00:00, 21178.25it/s]\n",
      "100%|██████████| 1000000/1000000 [01:08<00:00, 14619.56it/s]\n",
      "100%|██████████| 1000000/1000000 [00:59<00:00, 16910.43it/s]\n",
      "100%|██████████| 1000000/1000000 [00:58<00:00, 17137.02it/s]\n",
      "100%|██████████| 1000000/1000000 [01:05<00:00, 15329.56it/s]\n",
      "100%|██████████| 1000000/1000000 [01:02<00:00, 15958.06it/s]\n",
      "100%|██████████| 1000000/1000000 [00:52<00:00, 19056.85it/s]\n",
      "100%|██████████| 1000000/1000000 [01:11<00:00, 14021.85it/s]\n",
      "100%|██████████| 1000000/1000000 [01:07<00:00, 14840.62it/s]\n",
      "100%|██████████| 1000000/1000000 [01:00<00:00, 16557.79it/s]\n",
      "100%|██████████| 1000000/1000000 [00:42<00:00, 23688.04it/s]\n",
      "100%|██████████| 1000000/1000000 [00:47<00:00, 20993.72it/s]\n"
     ]
    }
   ],
   "source": [
    "for i in range(len(agents_obj)):\n",
    "    for j in range(i+1,len(agents_obj)):\n",
    "        p1 = agents_obj[i]\n",
    "        p2 = agents_obj[j]\n",
    "        \n",
    "        ttt = TicTacToe(p1, p2, rewards)\n",
    "        ttt.play(games=epochs, verbose=0)\n",
    "        scores[i] += p1.results\n",
    "        scores[j] += p2.results"
   ]
  },
  {
   "cell_type": "code",
   "execution_count": 21,
   "metadata": {},
   "outputs": [
    {
     "data": {
      "image/png": "[encoded data removed]",
      "text/plain": [
       "<Figure size 432x288 with 1 Axes>"
      ]
     },
     "metadata": {
      "needs_background": "light"
     },
     "output_type": "display_data"
    }
   ],
   "source": [
    "wins = scores[:,0]\n",
    "draws = scores[:,1]\n",
    "loses = scores[:,2]\n",
    "errors = scores[:,3]\n",
    "adv_errors = scores[:,4]\n",
    "ind = np.arange(len(scores)) # the x locations for the groups\n",
    "width = 0.35\n",
    "fig = plt.figure()\n",
    "ax = fig.add_axes([0,0,1,1])\n",
    "ax.bar(ind, wins, width, color='r')\n",
    "ax.bar(ind, draws, width,bottom=wins, color='b')\n",
    "ax.bar(ind, loses, width,bottom=wins+draws, color='g')\n",
    "ax.bar(ind, errors, width,bottom=wins+draws+loses, color='m')\n",
    "ax.bar(ind, adv_errors, width,bottom=wins+draws+loses+errors, color='y')\n",
    "ax.set_xlabel('learning_rate')\n",
    "ax.set_ylabel('Number of Games')\n",
    "ax.set_title('Scores by Qlearning model')\n",
    "ax.set_xticks(ind)\n",
    "ax.set_xticklabels( [str(i[\"learning_rate\"]) for i in agents])\n",
    "ax.legend(labels=['wins', 'draws', 'loses', 'errors', 'adv_errors'])\n",
    "plt.show()"
   ]
  },
  {
   "cell_type": "markdown",
   "metadata": {},
   "source": [
    "### Against Human Player\n",
    "\n",
    "Re-execute first training and take the last agent"
   ]
  },
  {
   "cell_type": "code",
   "execution_count": 9,
   "metadata": {},
   "outputs": [
    {
     "name": "stdout",
     "output_type": "stream",
     "text": [
      "_____________\n",
      "| v | v | v |\n",
      "_____________\n",
      "| v | x | v |\n",
      "_____________\n",
      "| v | v | v |\n",
      "_____________\n",
      "Choose an action \n",
      "(for example '0' corresponds to the first column, first line cell)\n",
      "Available : [0, 1, 2, 3, 5, 6, 7, 8] = 2\n",
      "_____________\n",
      "| v | v | o |\n",
      "_____________\n",
      "| v | x | v |\n",
      "_____________\n",
      "| v | v | v |\n",
      "_____________\n",
      "_____________\n",
      "| v | v | o |\n",
      "_____________\n",
      "| x | x | v |\n",
      "_____________\n",
      "| v | v | v |\n",
      "_____________\n",
      "Choose an action \n",
      "(for example '0' corresponds to the first column, first line cell)\n",
      "Available : [0, 1, 5, 6, 7, 8] = 8\n",
      "_____________\n",
      "| v | v | o |\n",
      "_____________\n",
      "| x | x | v |\n",
      "_____________\n",
      "| v | v | o |\n",
      "_____________\n",
      "_____________\n",
      "| v | v | o |\n",
      "_____________\n",
      "| x | x | x |\n",
      "_____________\n",
      "| v | v | o |\n",
      "_____________\n",
      "Player QLearningAgent6 wins :\n",
      "_____________\n",
      "| v | v | o |\n",
      "_____________\n",
      "| x | x | x |\n",
      "_____________\n",
      "| v | v | o |\n",
      "_____________\n"
     ]
    }
   ],
   "source": [
    "ha = HumanAgent(\"Camille\")\n",
    "ttt = TicTacToe(agents_obj[-1], ha, rewards)\n",
    "ttt.run_game(verbose=2)"
   ]
  },
  {
   "cell_type": "code",
   "execution_count": 10,
   "metadata": {},
   "outputs": [
    {
     "name": "stdout",
     "output_type": "stream",
     "text": [
      "_____________\n",
      "| v | v | v |\n",
      "_____________\n",
      "| v | x | v |\n",
      "_____________\n",
      "| v | v | v |\n",
      "_____________\n",
      "Choose an action \n",
      "(for example '0' corresponds to the first column, first line cell)\n",
      "Available : [0, 1, 2, 3, 5, 6, 7, 8] = 3\n",
      "_____________\n",
      "| v | v | v |\n",
      "_____________\n",
      "| o | x | v |\n",
      "_____________\n",
      "| v | v | v |\n",
      "_____________\n",
      "_____________\n",
      "| v | v | v |\n",
      "_____________\n",
      "| o | x | v |\n",
      "_____________\n",
      "| v | x | v |\n",
      "_____________\n",
      "Choose an action \n",
      "(for example '0' corresponds to the first column, first line cell)\n",
      "Available : [0, 1, 2, 5, 6, 8] = 1\n",
      "_____________\n",
      "| v | o | v |\n",
      "_____________\n",
      "| o | x | v |\n",
      "_____________\n",
      "| v | x | v |\n",
      "_____________\n",
      "_____________\n",
      "| v | o | v |\n",
      "_____________\n",
      "| o | x | v |\n",
      "_____________\n",
      "| x | x | v |\n",
      "_____________\n",
      "Choose an action \n",
      "(for example '0' corresponds to the first column, first line cell)\n",
      "Available : [0, 2, 5, 8] = 2\n",
      "_____________\n",
      "| v | o | o |\n",
      "_____________\n",
      "| o | x | v |\n",
      "_____________\n",
      "| x | x | v |\n",
      "_____________\n",
      "_____________\n",
      "| v | o | o |\n",
      "_____________\n",
      "| o | x | v |\n",
      "_____________\n",
      "| x | x | x |\n",
      "_____________\n",
      "Player QLearningAgent6 wins :\n",
      "_____________\n",
      "| v | o | o |\n",
      "_____________\n",
      "| o | x | v |\n",
      "_____________\n",
      "| x | x | x |\n",
      "_____________\n"
     ]
    }
   ],
   "source": [
    "ttt.reset_env()\n",
    "ttt.run_game(verbose=2)"
   ]
  },
  {
   "cell_type": "markdown",
   "metadata": {},
   "source": [
    "Aggresive strategy + exploit the first fail move of the human\n",
    "\n",
    "The result is quite good."
   ]
  },
  {
   "cell_type": "code",
   "execution_count": null,
   "metadata": {},
   "outputs": [],
   "source": []
  }
 ],
 "metadata": {
  "kernelspec": {
   "display_name": "Python 3",
   "language": "python",
   "name": "python3"
  },
  "language_info": {
   "codemirror_mode": {
    "name": "ipython",
    "version": 3
   },
   "file_extension": ".py",
   "mimetype": "text/x-python",
   "name": "python",
   "nbconvert_exporter": "python",
   "pygments_lexer": "ipython3",
   "version": "3.8.8"
  }
 },
 "nbformat": 4,
 "nbformat_minor": 4
}
